{
 "cells": [
  {
   "cell_type": "code",
   "execution_count": 1,
   "id": "87805bf3-4b2d-4a97-bc92-596c245bbbaf",
   "metadata": {},
   "outputs": [],
   "source": [
    "import os\n",
    "import shutil\n",
    "import re\n",
    "\n",
    "from pymarc import MARCReader\n",
    "from pymarc import Record, Field\n",
    "from pymarc import XMLWriter\n",
    "from pymarc import MARCWriter\n",
    "import pymarc\n"
   ]
  },
  {
   "cell_type": "code",
   "execution_count": 2,
   "id": "52121490-0af0-4033-9d86-a6b357537445",
   "metadata": {},
   "outputs": [],
   "source": [
    "def get_marc_file_paths():\n",
    "\n",
    "    marc_file_paths = []\n",
    "\n",
    "    for file in os.listdir():\n",
    "        if file.endswith(\".mrc\"):\n",
    "            marc_file = file\n",
    "            marc_file_path = os.path.join(marc_file)\n",
    "            marc_file_paths.append(marc_file_path)\n",
    "    return marc_file_paths"
   ]
  },
  {
   "cell_type": "code",
   "execution_count": 5,
   "id": "775ce82c-3579-4a5a-b86e-680f7479a564",
   "metadata": {},
   "outputs": [],
   "source": [
    "def unzip_zips():\n",
    "    for file in os.listdir():\n",
    "        if file.endswith(\".zip\"):\n",
    "            shutil.unpack_archive(file)"
   ]
  },
  {
   "cell_type": "code",
   "execution_count": 1,
   "id": "0449465f-93ba-4513-af80-e706f6e89385",
   "metadata": {},
   "outputs": [],
   "source": [
    "def delete_marc_by_eisbn(marc_file,eisbn_to_delete):\n",
    "    with open(marc_file, 'rb') as file:\n",
    "        reader = file\n",
    "        for record in reader:\n",
    "            eisbn_field = (record['020']['a'])\n",
    "            eisbn_pattern = re.search(r\"978\\d{10}\",eisbn_field)\n",
    "            eisbn_check = eisbn_pattern.group()\n",
    "            if eisbn == eisbn_to_delete:\n",
    "                print(\"{} found, deleting record\".format(eisbn))\n",
    "                del record"
   ]
  },
  {
   "cell_type": "code",
   "execution_count": 9,
   "id": "d28d9eda-15f2-4c50-981d-1627cfdd361c",
   "metadata": {},
   "outputs": [],
   "source": [
    "def print_eisbns(marc_file):\n",
    "    with open(marc_file, 'rb') as file:\n",
    "        reader = MARCReader(file)\n",
    "        for record in reader:\n",
    "            eisbn_field = (record['020']['a'])\n",
    "            eisbn_pattern = re.search(r\"978\\d{10}\",eisbn_field)\n",
    "            print(eisbn_pattern.group())"
   ]
  },
  {
   "cell_type": "code",
   "execution_count": 10,
   "id": "85c045ee-44dd-4be4-9545-31da76b524c4",
   "metadata": {},
   "outputs": [],
   "source": [
    "def count_records(marc_file):\n",
    "    with open(marc_file, 'rb') as file:\n",
    "        reader = MARCReader(file)\n",
    "        count = 0\n",
    "        for record in reader:\n",
    "            count += 1\n",
    "        return count"
   ]
  },
  {
   "cell_type": "code",
   "execution_count": null,
   "id": "73929d86-e1a2-420a-946f-2309c2c84a18",
   "metadata": {},
   "outputs": [],
   "source": []
  }
 ],
 "metadata": {
  "jupytext": {
   "formats": "ipynb,py:light"
  },
  "kernelspec": {
   "display_name": "Python 3 (ipykernel)",
   "language": "python",
   "name": "python3"
  },
  "language_info": {
   "codemirror_mode": {
    "name": "ipython",
    "version": 3
   },
   "file_extension": ".py",
   "mimetype": "text/x-python",
   "name": "python",
   "nbconvert_exporter": "python",
   "pygments_lexer": "ipython3",
   "version": "3.9.7"
  }
 },
 "nbformat": 4,
 "nbformat_minor": 5
}
